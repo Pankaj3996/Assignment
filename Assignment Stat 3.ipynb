{
 "cells": [
  {
   "cell_type": "markdown",
   "metadata": {},
   "source": [
    "## Problem Statement 1:\n",
    "    \n",
    "### Blood glucose levels for obese patients have a mean of 100 with a standard deviation of 15. \n",
    "### A researcher thinks that a diet high in raw cornstarch will have a positive effect on blood \n",
    "### glucose levels. A sample of 36 patients who have tried the raw cornstarch diet\n",
    "### have a mean glucose level of 108. Test the hypothesis that the raw cornstarch had an\n",
    "### effect or not."
   ]
  },
  {
   "cell_type": "code",
   "execution_count": 4,
   "metadata": {},
   "outputs": [
    {
     "data": {
      "application/javascript": [
       "\n",
       "        if (window._pyforest_update_imports_cell) { window._pyforest_update_imports_cell('import numpy as np'); }\n",
       "    "
      ],
      "text/plain": [
       "<IPython.core.display.Javascript object>"
      ]
     },
     "metadata": {},
     "output_type": "display_data"
    },
    {
     "name": "stdout",
     "output_type": "stream",
     "text": [
      "16.0\n"
     ]
    }
   ],
   "source": [
    "# Raw cornstrach has effect H0(null hypothesis) : u=100\n",
    "# Raw cornstrach has no effect H1(alternate hypothesis) : u!=100\n",
    "\n",
    "\n",
    "import pandas as pd\n",
    "from scipy import stats\n",
    "\n",
    "mu=100    #mean\n",
    "sigma=15  #standard deviation\n",
    "n=36     #sample size\n",
    "x_bar = 140\n",
    "z_critical = 1.96 #alpha level of 0.05 and two-tailed test\n",
    "\n",
    "\n",
    "SE=sigma/np.sqrt(n)\n",
    "\n",
    "Z_test=(x_bar-mu)/SE\n",
    "print(Z_test)\n"
   ]
  },
  {
   "cell_type": "markdown",
   "metadata": {},
   "source": [
    "Conclusion :Z_test is grater than z critical therefore we reject null hypothesis and will accept the\n",
    "alternate hypothesis.Hence there is no effect of cornstarch."
   ]
  },
  {
   "cell_type": "code",
   "execution_count": null,
   "metadata": {},
   "outputs": [],
   "source": []
  },
  {
   "cell_type": "markdown",
   "metadata": {},
   "source": [
    "## Problem Statement 2:\n",
    "    \n",
    "### In one state, 52% of the voters are Republicans, and 48% are Democrats. In a second\n",
    "### state, 47% of the voters are Republicans, and 53% are Democrats. Suppose a simple\n",
    "### random sample of 100 voters are surveyed from each state.\n",
    "\n",
    "### What is the probability that the survey will show a greater percentage of Republican\n",
    "### voters in the second state than in the first state?"
   ]
  },
  {
   "cell_type": "markdown",
   "metadata": {},
   "source": [
    "Answer -Let\n",
    "\n",
    "\n",
    "\n",
    "\n",
    "P1 = the proportion of Republican voters in the first state,\n",
    "\n",
    "P2 = the proportion of Republican voters in the second state,\n",
    "\n",
    "\n",
    "\n",
    "p1 = the proportion of Republican voters in the sample from the first state,\n",
    "\n",
    "p2 = the proportion of Republican voters in the sample from the second state.\n",
    "\n",
    "\n",
    "\n",
    "The number of voters sampled from the first state (n1) = 100, and the number of voters sampled from the second state (n2) = 100.\n",
    "\n",
    "\n",
    "\n",
    "Make sure the samples from each population are big enough to model differences with a normal distribution.\n",
    "\n",
    "\n",
    "\n",
    "Because\n",
    "\n",
    "\n",
    "\n",
    "n1P1 = 100 * 0.52 = 52, n1(1 - P1) = 100 * 0.48 = 48,\n",
    "\n",
    "\n",
    "\n",
    "n2P2 = 100 * 0.47 = 47, and n2(1 - P2) = 100 * 0.53 = 53\n",
    "\n",
    "\n",
    "\n",
    "each are greater than 10, the sample size is large enough.\n",
    "\n",
    "\n",
    "\n",
    "Find the mean of the difference in sample proportions: E(p1 - p2) = P1 - P2 = 0.52 - 0.47 = 0.05.\n",
    "\n",
    "\n",
    "\n",
    "Find the standard deviation of the difference:\n",
    "\n",
    "\n",
    "\n",
    "σd = sqrt{ [ P1(1 - P1) / n1 ] + [ P2(1 - P2) / n2 ] }\n",
    "\n",
    "\n",
    "\n",
    "σd = sqrt{ [ (0.52)(0.48) / 100 ] + [ (0.47)(0.53) / 100 ] }\n",
    "\n",
    "\n",
    "\n",
    "σd = sqrt (0.002496 + 0.002491) = sqrt(0.004987) = 0.0706\n",
    "\n",
    "\n",
    "\n",
    "Find the probability. This problem requires us to find the probability that p1 is less than p2. This is equivalent to finding the probability that p1 - p2 is less than zero. To find this probability, we need to transform the random variable (p1 - p2) into a z-score.\n",
    "\n",
    "\n",
    "\n",
    "That transformation appears below.\n",
    "\n",
    "\n",
    "\n",
    "zp1 - p2 = (x - μp1 - p2) / σd = = (0 - 0.05)/0.0706 = -0.7082\n",
    "\n",
    "\n",
    "Normal Distribution is\n",
    "\n",
    "\n",
    "\n",
    "P(z <=0.7082) = 0.24\n",
    "\n",
    "\n",
    "\n",
    "the probability of a z-score being -0.7082 or less is 0.24\n",
    "\n",
    "\n",
    "\n",
    "Therefore, the probability that the survey will show a greater percentage of Republican voters in the second state than in the first state is 0.24."
   ]
  },
  {
   "cell_type": "markdown",
   "metadata": {},
   "source": [
    "## Problem Statement 3:\n",
    "### You take the SAT and score 1100. The mean score for the SAT is 1026 and the standard\n",
    "### deviation is 209. How well did you score on the test compared to the average test taker?"
   ]
  },
  {
   "cell_type": "code",
   "execution_count": 5,
   "metadata": {},
   "outputs": [
    {
     "name": "stdout",
     "output_type": "stream",
     "text": [
      "Z Score :  0.35406698564593303\n",
      "The above calculation shows that my score is 0.35 standard deviations above the mean\n"
     ]
    }
   ],
   "source": [
    "#The z score tells you how many standard deviations from the mean your score is \n",
    "#My score =x\n",
    "x= 1100 #Population Mean =mu mu = 1026 \n",
    "#population standard deviation =sd\n",
    "mu=1026\n",
    "sd = 209\n",
    "z = ( x - mu)/sd\n",
    "print(\"Z Score : \",z)\n",
    "print('The above calculation shows that my score is 0.35 standard deviations above the mean')"
   ]
  }
 ],
 "metadata": {
  "kernelspec": {
   "display_name": "Python 3",
   "language": "python",
   "name": "python3"
  },
  "language_info": {
   "codemirror_mode": {
    "name": "ipython",
    "version": 3
   },
   "file_extension": ".py",
   "mimetype": "text/x-python",
   "name": "python",
   "nbconvert_exporter": "python",
   "pygments_lexer": "ipython3",
   "version": "3.7.3"
  }
 },
 "nbformat": 4,
 "nbformat_minor": 2
}
