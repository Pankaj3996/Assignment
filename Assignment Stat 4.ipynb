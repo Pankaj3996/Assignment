{
 "cells": [
  {
   "cell_type": "markdown",
   "metadata": {},
   "source": [
    "Problem Statement 1:\n",
    "    \n",
    "Is gender independent of education level? A random sample of 395 people were\n",
    "surveyed and each person was asked to report the highest education level they\n",
    "obtained. The data that resulted from the survey is summarized in the following table:\n",
    "High School Bachelors Masters Ph.d. Total\n",
    "Female 60 54 46 41 201\n",
    "\n",
    "Male 40 44 53 57 194\n",
    "\n",
    "Total 100 98 99 98 395\n",
    "\n",
    "Question: Are gender and education level dependent at 5% level of significance? In\n",
    "other words, given the data collected above, is there a relationship between the\n",
    "gender of an individual and the level of education that they have obtained?"
   ]
  },
  {
   "cell_type": "code",
   "execution_count": 13,
   "metadata": {},
   "outputs": [
    {
     "name": "stdout",
     "output_type": "stream",
     "text": [
      "[40, 44, 53, 57, 60, 54, 46, 41]\n",
      "     Education  Marks Sex\n",
      "0  High_school     40   M\n",
      "1    Bachelors     44   M\n",
      "2      Masters     53   M\n",
      "3         Ph.d     57   M\n",
      "4  High_school     60   F\n",
      "5    Bachelors     54   F\n",
      "6      Masters     46   F\n",
      "7         Ph.d     41   F\n"
     ]
    },
    {
     "data": {
      "text/html": [
       "<div>\n",
       "<style scoped>\n",
       "    .dataframe tbody tr th:only-of-type {\n",
       "        vertical-align: middle;\n",
       "    }\n",
       "\n",
       "    .dataframe tbody tr th {\n",
       "        vertical-align: top;\n",
       "    }\n",
       "\n",
       "    .dataframe thead th {\n",
       "        text-align: right;\n",
       "    }\n",
       "</style>\n",
       "<table border=\"1\" class=\"dataframe\">\n",
       "  <thead>\n",
       "    <tr style=\"text-align: right;\">\n",
       "      <th></th>\n",
       "      <th>Bachelors</th>\n",
       "      <th>High_School</th>\n",
       "      <th>Masters</th>\n",
       "      <th>Ph.d.</th>\n",
       "      <th>Genderwise_total</th>\n",
       "    </tr>\n",
       "  </thead>\n",
       "  <tbody>\n",
       "    <tr>\n",
       "      <th>Female</th>\n",
       "      <td>54</td>\n",
       "      <td>60</td>\n",
       "      <td>46</td>\n",
       "      <td>41</td>\n",
       "      <td>201</td>\n",
       "    </tr>\n",
       "    <tr>\n",
       "      <th>Male</th>\n",
       "      <td>44</td>\n",
       "      <td>40</td>\n",
       "      <td>53</td>\n",
       "      <td>57</td>\n",
       "      <td>194</td>\n",
       "    </tr>\n",
       "    <tr>\n",
       "      <th>Combined</th>\n",
       "      <td>98</td>\n",
       "      <td>100</td>\n",
       "      <td>99</td>\n",
       "      <td>98</td>\n",
       "      <td>395</td>\n",
       "    </tr>\n",
       "  </tbody>\n",
       "</table>\n",
       "</div>"
      ],
      "text/plain": [
       "          Bachelors  High_School  Masters  Ph.d.  Genderwise_total\n",
       "Female           54           60       46     41               201\n",
       "Male             44           40       53     57               194\n",
       "Combined         98          100       99     98               395"
      ]
     },
     "execution_count": 13,
     "metadata": {},
     "output_type": "execute_result"
    }
   ],
   "source": [
    "#Chi-Square test of independence\n",
    "#H0 :Null Hypothesis: The two categorical variables are independent.\n",
    "#H1:Alternative Hypothesis: The two categorical variables are dependent.\n",
    "\n",
    "import numpy as np\n",
    "import pandas as pd\n",
    "import scipy.stats as stats\n",
    "\n",
    "male = [40,44,53,57]\n",
    "female = [60,54,46,41]\n",
    "High_school=[60,40]\n",
    "Bachelors = [54,44]\n",
    "Masters = [46,53]\n",
    "Phd = [41,57]\n",
    "\n",
    "marks = male+female\n",
    "print(marks)\n",
    "sex=['M','M','M','M','F','F','F','F']\n",
    "education =['High_school','Bachelors','Masters','Ph.d','High_school','Bachelors','Masters','Ph.d']\n",
    "DF=pd.DataFrame({\"Education\":education,\"Marks\":marks,\"Sex\":sex})\n",
    "DF\n",
    "print(DF)\n",
    "\n",
    "cross_tab = pd.crosstab([DF.Sex,DF.Marks],DF.Education,margins=True)\n",
    "cross_tab\n",
    "\n",
    "DF1 = pd.crosstab(DF.Sex, DF.Education,DF.Marks, aggfunc=\"sum\",margins=True)\n",
    "DF1\n",
    "\n",
    "DF1.columns = [\"Bachelors\",\"High_School\",\"Masters\",\"Ph.d.\",\"Genderwise_total\"]\n",
    "DF1.index = [\"Female\",\"Male\",\"Combined\"]\n",
    "DF1"
   ]
  },
  {
   "cell_type": "markdown",
   "metadata": {},
   "source": [
    "Problem Statement 2:\n",
    "    \n",
    "Using the following data, perform a oneway analysis of variance using α=.05. Write\n",
    "up the results in APA format.\n",
    "[Group1: 51, 45, 33, 45, 67]\n",
    "[Group2: 23, 43, 23, 43, 45]\n",
    "[Group3: 56, 76, 74, 87, 56]"
   ]
  },
  {
   "cell_type": "code",
   "execution_count": 18,
   "metadata": {},
   "outputs": [
    {
     "name": "stdout",
     "output_type": "stream",
     "text": [
      "F Statistic value 9.747205503009463 , p-value 0.0030597541434430556\n",
      "True\n"
     ]
    }
   ],
   "source": [
    "#The analysis of variance or ANOVA is a statistical inference test that lets you compare multiple groups at the same\n",
    "#The scipy library has a function for carrying out one-way ANOVA tests called scipy.stats.f_oneway()\n",
    "import scipy.stats as stats\n",
    "Group1 = [51, 45, 33, 45, 67]\n",
    "Group2 = [23, 43, 23, 43, 45]\n",
    "Group3 = [56, 76, 74, 87, 56]\n",
    "statistic, pvalue = stats.f_oneway(Group1,Group2,Group3)\n",
    "print(\"F Statistic value {} , p-value {}\".format(statistic,pvalue))\n",
    "if pvalue < 0.05:\n",
    "    print('True')\n",
    "else:\n",
    "    print('False')\n",
    "    print(\"-\"*115)\n",
    "    print(\"The test result suggests the groups have different same sample means in this example, since the p-value is significant at a 99% confidence level. Here the p-value returned is 0.00305 which is < 0.05\")"
   ]
  },
  {
   "cell_type": "code",
   "execution_count": null,
   "metadata": {},
   "outputs": [],
   "source": []
  }
 ],
 "metadata": {
  "kernelspec": {
   "display_name": "Python 3",
   "language": "python",
   "name": "python3"
  },
  "language_info": {
   "codemirror_mode": {
    "name": "ipython",
    "version": 3
   },
   "file_extension": ".py",
   "mimetype": "text/x-python",
   "name": "python",
   "nbconvert_exporter": "python",
   "pygments_lexer": "ipython3",
   "version": "3.7.3"
  }
 },
 "nbformat": 4,
 "nbformat_minor": 2
}
