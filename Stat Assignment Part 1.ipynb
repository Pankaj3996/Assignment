{
 "cells": [
  {
   "cell_type": "markdown",
   "metadata": {},
   "source": [
    "## Stat Assignment (Part-1)"
   ]
  },
  {
   "cell_type": "markdown",
   "metadata": {},
   "source": [
    "Problem Statement 1:\n",
    "    \n",
    "You survey households in your area to find the average rent they are paying.\n",
    "Find the standard deviation from the following data:\n",
    "    \n",
    "$1550, $1700, $900, $850, $1000, $950."
   ]
  },
  {
   "cell_type": "code",
   "execution_count": 12,
   "metadata": {},
   "outputs": [
    {
     "name": "stdout",
     "output_type": "stream",
     "text": [
      "Average rent is = 1158.3333333333333\n",
      "Standard deviation is = 367.9900360969936\n"
     ]
    }
   ],
   "source": [
    "import statistics\n",
    "Avg=[1550, 1700, 900, 850, 1000, 950]\n",
    "\n",
    "#Calculate Mean\n",
    "x=statistics.mean(Avg)\n",
    "print('Average rent is =' ,x)\n",
    "\n",
    "# Calculate Average\n",
    "y=statistics.stdev(Avg)\n",
    "print('Standard deviation is =' ,y)"
   ]
  },
  {
   "cell_type": "markdown",
   "metadata": {},
   "source": [
    "Problem Statement 2:\n",
    "    \n",
    "Find the variance for the following set of data representing trees in California (heights in\n",
    "feet):\n",
    "    \n",
    "3, 21, 98, 203, 17, 9"
   ]
  },
  {
   "cell_type": "code",
   "execution_count": 14,
   "metadata": {},
   "outputs": [
    {
     "name": "stdout",
     "output_type": "stream",
     "text": [
      "Variance of data representing trees in California is 6219.9\n"
     ]
    }
   ],
   "source": [
    "Data = [3, 21, 98, 203, 17, 9]\n",
    "\n",
    "# Calculate Variance\n",
    "x=statistics.variance(Data)\n",
    "print('Variance of data representing trees in California is' ,x)"
   ]
  },
  {
   "cell_type": "markdown",
   "metadata": {},
   "source": [
    "Problem Statement 3:\n",
    "    \n",
    "In a class on 100 students, 80 students passed in all subjects, 10 failed in one subject, 7\n",
    "failed in two subjects and 3 failed in three subjects. Find the probability distribution of\n",
    "the variable for number of subjects a student from the given class has failed in."
   ]
  },
  {
   "cell_type": "code",
   "execution_count": 17,
   "metadata": {},
   "outputs": [
    {
     "name": "stdout",
     "output_type": "stream",
     "text": [
      "Probability(Pass or Noone fail) = 0.8\n",
      "Probability(Failed in one subject) = 0.1\n",
      "Probability(Failed in two subjects) = 0.07\n",
      "Probability(Failed in three subjects) = 0.03\n"
     ]
    }
   ],
   "source": [
    "# Let Sample space=100\n",
    "# P(pass or noone fail) =80/100=0.80\n",
    "# P(fail in one subject)=10/100=0.10\n",
    "# P(fail in two subject)=7/100=0.07\n",
    "# P(fail in three subject)=3/100=0.03\n",
    "\n",
    "S=100\n",
    "P=80\n",
    "f1=10\n",
    "f2=7\n",
    "f3=3\n",
    "print('Probability(Pass or Noone fail) =',P/S)\n",
    "print('Probability(Failed in one subject) =',f1/S)\n",
    "print('Probability(Failed in two subjects) =',f2/S)\n",
    "print('Probability(Failed in three subjects) =',f3/S)"
   ]
  },
  {
   "cell_type": "code",
   "execution_count": null,
   "metadata": {},
   "outputs": [],
   "source": []
  }
 ],
 "metadata": {
  "kernelspec": {
   "display_name": "Python 3",
   "language": "python",
   "name": "python3"
  },
  "language_info": {
   "codemirror_mode": {
    "name": "ipython",
    "version": 3
   },
   "file_extension": ".py",
   "mimetype": "text/x-python",
   "name": "python",
   "nbconvert_exporter": "python",
   "pygments_lexer": "ipython3",
   "version": "3.7.3"
  }
 },
 "nbformat": 4,
 "nbformat_minor": 2
}
